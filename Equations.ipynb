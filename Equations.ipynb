{
 "cells": [
  {
   "cell_type": "markdown",
   "metadata": {},
   "source": [
    "## Some information sources\n",
    "http://www.spatialanalysisonline.com/\n",
    "\n",
    "http://edndoc.esri.com/arcobjects/9.2/net/shared/geoprocessing/spatial_analyst_tools/how_hillshade_works.htm\n"
   ]
  },
  {
   "cell_type": "markdown",
   "metadata": {},
   "source": [
    "## Partial derivatives - grid surface\n",
    "\n",
    "### Neighbouring cells\n",
    "In order to calculate terrain parameters for grid surfaces it is normal to use a 3x3 cell window.\n",
    "There are numerous way to refer to the different cells. These 3 are very common:\n",
    "\n",
    "||||||||||||\n",
    "|----|\n",
    "|*Z*<sub>1</sub>|*Z*<sub>2</sub>|*Z*<sub>3</sub>|  | NW | N | NE |  | -1,1 | 0,1 | 1,1 |\n",
    "|*Z*<sub>4</sub>|*Z*<sub>5</sub>|*Z*<sub>6</sub>|  | W  | Z | E  |  | -1,0 | 0,0 | 1,0 |\n",
    "|*Z*<sub>7</sub>|*Z*<sub>8</sub>|*Z*<sub>9</sub>|  | SW | S | SE |  | -1,-1 | 0,-1 | 1,-1 |\n",
    "\n",
    "In the calculations the referencing method using $Z_1$ to $Z_9$ will be used.\n",
    "\n",
    "### Zevenbergen and Thorne (1987) - first order\n",
    "Method for obtaining first order derivatives by Zevenbergen and Thorne (1987)\n",
    "\n",
    "\\begin{equation}\n",
    "\\frac{\\partial z}{\\partial x} \\approx \\frac{Z_6 - Z_4}{2\\Delta x}\n",
    "\\end{equation}\n",
    "\n",
    "\\begin{equation}\n",
    "\\frac{\\partial z}{\\partial y} \\approx \\frac{Z_2 - Z_8}{2\\Delta y}\n",
    "\\end{equation}\n",
    "\n",
    "### Evans–Young - first order\n",
    "Method for obtaining first order derivatives by (Evans, 1972; Young, 1978; Pennock et al., 1987)\n",
    "\n",
    "\\begin{equation}\n",
    "\\frac{\\partial z}{\\partial x} \\approx\n",
    "\\frac{Z_3 + Z_6 + Z_9 - Z_1 - Z_4 - Z_7}{6\\Delta x}\n",
    "\\end{equation}\n",
    "\n",
    "\\begin{equation}\n",
    "\\frac{\\partial z}{\\partial y} \\approx\n",
    "\\frac{Z_1 + Z_2 + Z_3 - Z_7 - Z_8 - Z_9}{6\\Delta y}\n",
    "\\end{equation}\n",
    "\n",
    "### Horns method (1981) - first order\n",
    "Method for deriving first order derivatives is mentioned in Horn (1981).\n",
    "\n",
    "\\begin{equation}\n",
    "\\frac{\\partial z}{\\partial x} \\approx\n",
    "\\frac{(Z_3 + 2Z_6 + Z_9) - (Z_1 + 2Z_4 + Z_7)}{8\\Delta x}\n",
    "\\end{equation}\n",
    "\n",
    "\\begin{equation}\n",
    "\\frac{\\partial z}{\\partial y} \\approx\n",
    "\\frac{(Z_1 + 2Z_2 + Z_3) - (Z_7 + 2Z_8 + Z_9)}{8\\Delta y}\n",
    "\\end{equation}"
   ]
  },
  {
   "cell_type": "markdown",
   "metadata": {},
   "source": [
    "## Terrain parameters"
   ]
  },
  {
   "cell_type": "markdown",
   "metadata": {},
   "source": [
    "### Slope\n",
    "http://www.spatialanalysisonline.com/HTML/gradient__slope_and_aspect.htm\n",
    "\n",
    "Slope is the magnitude of the gradient:\n",
    "\\begin{equation}\n",
    "S_{rad} = \\arctan{\n",
    "\\Bigg(\n",
    "\\sqrt{\n",
    "\\bigg(\\frac{\\partial z}{\\partial x}\\bigg)^2\n",
    "+\n",
    "\\bigg(\\frac{\\partial z}{\\partial y}\\bigg)^2\n",
    "}\n",
    "\\Bigg)\n",
    "}\n",
    "\\end{equation}\n",
    "\n",
    "To convert into degrees:\n",
    "$S_{deg} = S_{rad} \\frac{180}{\\pi}$"
   ]
  },
  {
   "cell_type": "markdown",
   "metadata": {},
   "source": [
    "### Aspect\n",
    "http://www.spatialanalysisonline.com/HTML/gradient__slope_and_aspect.htm\n",
    "\n",
    "Aspect is the direction of maximum gradient of the surface:\n",
    "\\begin{equation}\n",
    "A_{rad} = \\pi - \\arctan{\\bigg(\\frac{q}{p}\\bigg)} + \\frac{\\pi}{2} \\frac{p}{|p|}\n",
    "\\text{ , }\n",
    "p = \\frac{\\partial z}{\\partial x}\n",
    "\\text{ , }\n",
    "q = \\frac{\\partial z}{\\partial y}\n",
    "\\end{equation}\n",
    "If $\\frac{\\partial z}{\\partial x} = 0$, Nan will be output because of division by zero. Nan is replaced by -1.\n",
    "\n",
    "To convert into degrees:\n",
    "$A_{deg} = A_{rad} \\frac{180}{\\pi}$"
   ]
  },
  {
   "cell_type": "markdown",
   "metadata": {},
   "source": [
    "### Hillshade\n",
    "http://edndoc.esri.com/arcobjects/9.2/net/shared/geoprocessing/spatial_analyst_tools/how_hillshade_works.htm\n",
    "\n",
    "\\begin{equation}\n",
    "Hillshade = 255.0 * \n",
    "((cos(Zenith_{rad}) * cos(S_{rad})) + \n",
    "(sin(Zenith_{rad}) * sin(S_{rad}) * cos(Azimuth_{rad} - A_{rad})))\n",
    "\\end{equation}\n",
    "\n",
    "Altitude and Azimuth can be set to standard values in degress:\n",
    "\n",
    "$Altitude_{deg} = 45$\n",
    "\n",
    "$Azimuth_{deg} = 315$\n",
    "\n",
    "Azimuth in radians and change to mathematic unit (right angle):\n",
    "\n",
    "$Azimuth_{rad} = Azimuth_{deg} * \\frac{\\pi}{180}$\n",
    "\n",
    "Calculate Zenith in radians:\n",
    "\n",
    "$Zenith_{rad} = (90 - Altitude_{deg}) * \\frac{\\pi}{180}$"
   ]
  }
 ],
 "metadata": {
  "kernelspec": {
   "display_name": "Python 2",
   "language": "python",
   "name": "python2"
  },
  "language_info": {
   "codemirror_mode": {
    "name": "ipython",
    "version": 2
   },
   "file_extension": ".py",
   "mimetype": "text/x-python",
   "name": "python",
   "nbconvert_exporter": "python",
   "pygments_lexer": "ipython2",
   "version": "2.7.6"
  }
 },
 "nbformat": 4,
 "nbformat_minor": 0
}
